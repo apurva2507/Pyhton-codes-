{
 "cells": [
  {
   "cell_type": "markdown",
   "metadata": {
    "delateable": false,
    "editable": false
   },
   "source": [
    "# <div class=\"alert alert-block alert-info\"> <span style=\"font-family: Times New Roman\">Assignment on python fundamentals</span> </div>\n"
   ]
  },
  {
   "cell_type": "markdown",
   "metadata": {
    "delateable": false,
    "editable": false
   },
   "source": [
    "###### Note: \n",
    "<div class=\"alert alert-block alert-danger\"> <span style=\"font-family: Times New Roman\"> \n",
    "    - Kindly use this notebook to solve the programming problems. <br>\n",
    "- Submit assignments with .ipynb file extension only.<br>\n",
    "- Kindly use comments or markdowns to explain logic behind the codes, approach to solve the problem.</span></div>"
   ]
  },
  {
   "cell_type": "markdown",
   "metadata": {
    "delateable": false,
    "editable": false
   },
   "source": [
    "<div class=\"warning\" style='padding:0.1em; background-color:#E9D8FD; color:#69337A'>\n",
    "<span>\n",
    "<p style='margin-top:1em; text-align:left'>\n",
    "<b>1. By using a single 'print' function print the provided string in specified execution format. </b></p>\n",
    "    \n",
    "Hello World     \n",
    "Welcome to 'Python' Programming\n",
    "\n"
   ]
  },
  {
   "cell_type": "code",
   "execution_count": 5,
   "metadata": {},
   "outputs": [
    {
     "name": "stdout",
     "output_type": "stream",
     "text": [
      "Hello World \n",
      " Welcome to 'Python' Programming\n"
     ]
    }
   ],
   "source": [
    "print(\"Hello World \\n Welcome to 'Python' Programming\")\n"
   ]
  },
  {
   "cell_type": "markdown",
   "metadata": {
    "delateable": false,
    "editable": false
   },
   "source": [
    "<div class=\"warning\" style='padding:0.1em; background-color:#E9D8FD; color:#69337A'>\n",
    "<span>\n",
    "<p style='margin-top:1em; text-align:left'>\n",
    "<b>2. Check the python version which you are using. </b></p>\n",
    "</span></div>\n"
   ]
  },
  {
   "cell_type": "code",
   "execution_count": 7,
   "metadata": {},
   "outputs": [
    {
     "name": "stdout",
     "output_type": "stream",
     "text": [
      "3.12.7 | packaged by Anaconda, Inc. | (main, Oct  4 2024, 13:17:27) [MSC v.1929 64 bit (AMD64)]\n"
     ]
    }
   ],
   "source": [
    "import sys\n",
    "print(sys.version)\n"
   ]
  },
  {
   "cell_type": "markdown",
   "metadata": {
    "delateable": false,
    "editable": false
   },
   "source": [
    "<div class=\"warning\" style='padding:0.1em; background-color:#E9D8FD; color:#69337A'>\n",
    "<span>\n",
    "<p style='margin-top:1em; text-align:left'>\n",
    "<b>3. Design a Python program which can calculate the area by taking radius as input by 'user input' method. </b></p>\n",
    "<table>\n",
    "  <tr>\n",
    "  <td><td>\n",
    "      <br> instead of giving direct values try using \"<b>float(input())</b>\" </td>\n",
    "  </tr>\n",
    "</table>\n",
    "</span>\n",
    "</div>\n"
   ]
  },
  {
   "cell_type": "code",
   "execution_count": 59,
   "metadata": {},
   "outputs": [
    {
     "name": "stdin",
     "output_type": "stream",
     "text": [
      "Enter the radius of the circle:  5\n"
     ]
    },
    {
     "name": "stdout",
     "output_type": "stream",
     "text": [
      "The area of the circle with radius 5.0 is: 78.53981633974483\n"
     ]
    }
   ],
   "source": [
    "import math\n",
    "\n",
    "def calculate_area_of_circle():\n",
    "    radius = float(input(\"Enter the radius of the circle: \"))\n",
    "    area = math.pi * (radius ** 2)\n",
    "    print(f\"The area of the circle with radius {radius} is: {area}\")\n",
    "\n",
    "calculate_area_of_circle()"
   ]
  },
  {
   "cell_type": "markdown",
   "metadata": {
    "delateable": false,
    "editable": false
   },
   "source": [
    "<div class=\"warning\" style='padding:0.1em; background-color:#E9D8FD; color:#69337A'>\n",
    "<span>\n",
    "<p style='margin-top:1em; text-align:left'>\n",
    "<b>4. Write a python program which can take your first and last name seperately and execute as shown below. </b></p>\n",
    "<table>\n",
    "  <tr>\n",
    "  <td><td>\n",
    "      <br><b>Sample execution</b> : Hello 'first name' 'last name', hope you are doing good</td>\n",
    "  </tr>\n",
    "</table>\n",
    "</span></div>\n"
   ]
  },
  {
   "cell_type": "code",
   "execution_count": 61,
   "metadata": {},
   "outputs": [
    {
     "name": "stdin",
     "output_type": "stream",
     "text": [
      "Enter your first name:  apoorva\n",
      "Enter your last name:  joshi\n"
     ]
    },
    {
     "name": "stdout",
     "output_type": "stream",
     "text": [
      "Hello apoorva joshi, hope you are doing good\n"
     ]
    }
   ],
   "source": [
    "def greet_user(first_name, last_name):\n",
    "    print(f\"Hello {first_name} {last_name}, hope you are doing good\")\n",
    "    \n",
    "first_name = input(\"Enter your first name: \")\n",
    "last_name = input(\"Enter your last name: \")\n",
    "greet_user(first_name, last_name)\n"
   ]
  },
  {
   "cell_type": "markdown",
   "metadata": {
    "delateable": false,
    "editable": false
   },
   "source": [
    "<div class=\"warning\" style='padding:0.1em; background-color:#E9D8FD; color:#69337A'>\n",
    "<span>\n",
    "<p style='margin-top:1em; text-align:left'>\n",
    "<b>5. Write a python program which can convert kilograms to grams.</b></p>\n",
    "</span></div>\n",
    "\n"
   ]
  },
  {
   "cell_type": "code",
   "execution_count": 15,
   "metadata": {},
   "outputs": [
    {
     "name": "stdin",
     "output_type": "stream",
     "text": [
      "Enter the weight in kilograms:  3\n"
     ]
    },
    {
     "name": "stdout",
     "output_type": "stream",
     "text": [
      "3.0 kilograms is equal to 3000.0 grams\n"
     ]
    }
   ],
   "source": [
    "def convert_kg_to_g():\n",
    "    kilograms = float(input(\"Enter the weight in kilograms: \"))\n",
    "    grams = kilograms * 1000\n",
    "    print(f\"{kilograms} kilograms is equal to {grams} grams\")\n",
    "\n",
    "convert_kg_to_g()"
   ]
  },
  {
   "cell_type": "code",
   "execution_count": null,
   "metadata": {},
   "outputs": [],
   "source": []
  },
  {
   "cell_type": "markdown",
   "metadata": {
    "delateable": false,
    "editable": false
   },
   "source": [
    "<div class=\"warning\" style='padding:0.1em; background-color:#E9D8FD; color:#69337A'>\n",
    "<span>\n",
    "<p style='margin-top:1em; text-align:left'>\n",
    "<b>6. Create a list and store the given elements in the list, and solve the following questions listed below.</b></p>\n",
    "<table>\n",
    "  <tr>\n",
    "  <td><td>\n",
    "      <br><b>Elements</b>: 'Bengaluru','New York', 1971, '1682', (1,2,3,4,5,'Is this tuple?'),\"'Hello,welcome to Python Programming'\"</td>\n",
    "  </tr>\n",
    "</table>\n",
    "</span>  \n",
    "\n",
    "- Try to extract entire tuple by using positive indexing  \n",
    "- Can we add elements into tuple after creating it?\n",
    "- Remove '1682' and 'New York' from the list\n",
    "- Discuss one practical application of tuple and lists\n",
    "- Access 'Bengaluru' by Negitive indexing\n",
    "- add 'Mumbai' into the list\n",
    "\n",
    "- Try to perform one operation on each removal operation on lists \n",
    "\n",
    "1. del\n",
    "2. remove\n",
    "3. pop\n",
    "- Try to perform one operation on each operational\n",
    "1. append\n",
    "2. entend\n",
    "3. insert</div>"
   ]
  },
  {
   "cell_type": "code",
   "execution_count": 110,
   "metadata": {},
   "outputs": [
    {
     "name": "stdout",
     "output_type": "stream",
     "text": [
      "['Bengaluru', 'New York', 1971, '1682', (1, 2, 3, 4, 5, 'Is this tuple?'), \"'Hello,welcome to Python Programming'\"]\n"
     ]
    }
   ],
   "source": [
    "# Create a list with the given elements\n",
    "elements = ['Bengaluru', 'New York', 1971, '1682', (1, 2, 3, 4, 5, 'Is this tuple?'), \"'Hello,welcome to Python Programming'\"]\n",
    "\n",
    "print(elements)\n",
    "\n"
   ]
  },
  {
   "cell_type": "code",
   "execution_count": 82,
   "metadata": {},
   "outputs": [
    {
     "name": "stdout",
     "output_type": "stream",
     "text": [
      "(1, 2, 3, 4, 5, 'Is this tuple?')\n"
     ]
    }
   ],
   "source": [
    "# Extracting the tuple\n",
    "extracted_tuple = elements[4]\n",
    "print(extracted_tuple)\n"
   ]
  },
  {
   "cell_type": "code",
   "execution_count": null,
   "metadata": {},
   "outputs": [],
   "source": [
    " ##  No, tuples are immutable, which means once a tuple is created, its elements cannot be changed or added."
   ]
  },
  {
   "cell_type": "code",
   "execution_count": 84,
   "metadata": {},
   "outputs": [
    {
     "name": "stdout",
     "output_type": "stream",
     "text": [
      "['Bengaluru', 1971, (1, 2, 3, 4, 5, 'Is this tuple?'), \"'Hello,welcome to Python Programming'\"]\n"
     ]
    }
   ],
   "source": [
    "# Removing '1682' and 'New York'\n",
    "elements.remove('1682')\n",
    "elements.remove('New York')\n",
    "print(elements)\n"
   ]
  },
  {
   "cell_type": "code",
   "execution_count": null,
   "metadata": {},
   "outputs": [],
   "source": [
    "# tuples: Tuples are used to store a collection of items where the order matters, and the elements should not be changed. For example, storing geographical coordinates (latitude, longitude).\n",
    "\n",
    "Lists: Lists are used to store a collection of items that can be modified. They are ideal for collections that need to be frequently updated, like a shopping cart or a to-do list."
   ]
  },
  {
   "cell_type": "code",
   "execution_count": 104,
   "metadata": {},
   "outputs": [
    {
     "name": "stdout",
     "output_type": "stream",
     "text": [
      "Bengaluru\n"
     ]
    }
   ],
   "source": [
    "# Accessing 'Bengaluru' by negative indexing\n",
    "# Accessing 'Bengaluru' by negative indexing\n",
    "bengaluru = elements[-6]\n",
    "print(bengaluru)\n",
    "\n"
   ]
  },
  {
   "cell_type": "code",
   "execution_count": 90,
   "metadata": {},
   "outputs": [
    {
     "name": "stdout",
     "output_type": "stream",
     "text": [
      "['Bengaluru', 1971, (1, 2, 3, 4, 5, 'Is this tuple?'), \"'Hello,welcome to Python Programming'\", 'Mumbai']\n"
     ]
    }
   ],
   "source": [
    "# Adding 'Mumbai' to the list\n",
    "elements.append('Mumbai')\n",
    "print(elements)\n"
   ]
  },
  {
   "cell_type": "code",
   "execution_count": 92,
   "metadata": {},
   "outputs": [
    {
     "name": "stdout",
     "output_type": "stream",
     "text": [
      "['Bengaluru', (1, 2, 3, 4, 5, 'Is this tuple?'), \"'Hello,welcome to Python Programming'\", 'Mumbai']\n"
     ]
    }
   ],
   "source": [
    "del elements[1]  # Deletes the element at index 1\n",
    "print(elements)\n"
   ]
  },
  {
   "cell_type": "code",
   "execution_count": 94,
   "metadata": {},
   "outputs": [
    {
     "name": "stdout",
     "output_type": "stream",
     "text": [
      "['Bengaluru', (1, 2, 3, 4, 5, 'Is this tuple?'), \"'Hello,welcome to Python Programming'\"]\n"
     ]
    }
   ],
   "source": [
    "elements.remove('Mumbai')  # Removes 'Mumbai' from the list\n",
    "print(elements)\n"
   ]
  },
  {
   "cell_type": "code",
   "execution_count": 96,
   "metadata": {},
   "outputs": [
    {
     "name": "stdout",
     "output_type": "stream",
     "text": [
      "['Bengaluru', (1, 2, 3, 4, 5, 'Is this tuple?')]\n",
      "'Hello,welcome to Python Programming'\n"
     ]
    }
   ],
   "source": [
    "popped_element = elements.pop(2)  # Removes and returns the element at index 2\n",
    "print(elements)\n",
    "print(popped_element)\n"
   ]
  },
  {
   "cell_type": "code",
   "execution_count": 98,
   "metadata": {},
   "outputs": [
    {
     "name": "stdout",
     "output_type": "stream",
     "text": [
      "['Bengaluru', (1, 2, 3, 4, 5, 'Is this tuple?'), 'Chennai']\n"
     ]
    }
   ],
   "source": [
    "elements.append('Chennai')  # Adds 'Chennai' to the end of the list\n",
    "print(elements)\n"
   ]
  },
  {
   "cell_type": "code",
   "execution_count": 100,
   "metadata": {},
   "outputs": [
    {
     "name": "stdout",
     "output_type": "stream",
     "text": [
      "['Bengaluru', (1, 2, 3, 4, 5, 'Is this tuple?'), 'Chennai', 'Delhi', 'Kolkata']\n"
     ]
    }
   ],
   "source": [
    "elements.extend(['Delhi', 'Kolkata'])  # Adds multiple elements to the end of the list\n",
    "print(elements)\n"
   ]
  },
  {
   "cell_type": "code",
   "execution_count": 102,
   "metadata": {},
   "outputs": [
    {
     "name": "stdout",
     "output_type": "stream",
     "text": [
      "['Bengaluru', 'Hyderabad', (1, 2, 3, 4, 5, 'Is this tuple?'), 'Chennai', 'Delhi', 'Kolkata']\n"
     ]
    }
   ],
   "source": [
    "elements.insert(1, 'Hyderabad')  # Inserts 'Hyderabad' at index 1\n",
    "print(elements)\n"
   ]
  },
  {
   "cell_type": "markdown",
   "metadata": {
    "delateable": false,
    "editable": false
   },
   "source": [
    "<div class=\"warning\" style='padding:0.1em; background-color:#E9D8FD; color:#69337A'>\n",
    "<span>\n",
    "<p style='margin-top:1em; text-align:left'>\n",
    "<b>7. Write a python program which can calculate the electricity bill by considering the no. of units consumed and other parameters are mentioned below.</b></p>\n",
    "</span>  \n",
    "\n",
    "- If units consumed is less than 50 then bill amount should be 100INR.\n",
    "- If units consumed between 50 - 300 then each unit will be charged at 4.5 INR.\n",
    "- If units are consumed more than 300 then that billed individual have to pay base pay as 1000INR and 300 units will be reduced from his total consumed units and for remaining units 7 INR will be charged for each unit.\n",
    "</div>\n",
    "\n",
    "\n"
   ]
  },
  {
   "cell_type": "code",
   "execution_count": 19,
   "metadata": {},
   "outputs": [
    {
     "name": "stdin",
     "output_type": "stream",
     "text": [
      "Enter the number of units consumed:  40\n"
     ]
    },
    {
     "name": "stdout",
     "output_type": "stream",
     "text": [
      "The electricity bill for 40.0 units is: 100 INR\n"
     ]
    }
   ],
   "source": [
    "def calculate_electricity_bill(units):\n",
    "    if units < 50:\n",
    "        bill_amount = 100\n",
    "    elif 50 <= units <= 300:\n",
    "        bill_amount = units * 4.5\n",
    "    else:\n",
    "        base_pay = 1000\n",
    "        remaining_units = units - 300\n",
    "        bill_amount = base_pay + (remaining_units * 7)\n",
    "    \n",
    "    return bill_amount\n",
    "\n",
    "units_consumed = float(input(\"Enter the number of units consumed: \"))\n",
    "bill = calculate_electricity_bill(units_consumed)\n",
    "print(f\"The electricity bill for {units_consumed} units is: {bill} INR\")"
   ]
  },
  {
   "cell_type": "markdown",
   "metadata": {
    "delateable": false,
    "editable": false
   },
   "source": [
    "<div class=\"warning\" style='padding:0.1em; background-color:#E9D8FD; color:#69337A'>\n",
    "<span>\n",
    "<p style='margin-top:1em; text-align:left'>\n",
    "<b>8. Write a program to calculate the tax of the vehicle based on the price.</b></p>\n",
    "</span>  \n",
    "- below are the parameters to consider\n",
    "\n",
    "    Cost price (in Rs)                                            Tax\n",
    "        > 150000                                                   18%\n",
    "        >100000 and <=150000                                       15 %\n",
    "        > 0 and <= 100000                                          10%\n",
    "         \n",
    "        "
   ]
  },
  {
   "cell_type": "code",
   "execution_count": 21,
   "metadata": {},
   "outputs": [
    {
     "name": "stdin",
     "output_type": "stream",
     "text": [
      "Enter the cost price of the vehicle (in Rs):  15000\n"
     ]
    },
    {
     "name": "stdout",
     "output_type": "stream",
     "text": [
      "The tax amount for the vehicle priced at 15000.0 Rs is: 1500.0 Rs\n"
     ]
    }
   ],
   "source": [
    "def calculate_vehicle_tax(price):\n",
    "    if price > 150000:\n",
    "        tax = price * 0.18\n",
    "    elif 100000 < price <= 150000:\n",
    "        tax = price * 0.15\n",
    "    elif 0 < price <= 100000:\n",
    "        tax = price * 0.10\n",
    "    else:\n",
    "        tax = 0\n",
    "        print(\"Invalid price. Tax cannot be calculated for negative values.\")\n",
    "    \n",
    "    return tax\n",
    "\n",
    "vehicle_price = float(input(\"Enter the cost price of the vehicle (in Rs): \"))\n",
    "tax_amount = calculate_vehicle_tax(vehicle_price)\n",
    "print(f\"The tax amount for the vehicle priced at {vehicle_price} Rs is: {tax_amount} Rs\")"
   ]
  },
  {
   "cell_type": "markdown",
   "metadata": {
    "delateable": false,
    "editable": false
   },
   "source": [
    "<div class=\"warning\" style='padding:0.1em; background-color:#E9D8FD; color:#69337A'>\n",
    "<span>\n",
    "<p style='margin-top:1em; text-align:left'>\n",
    "<b>9. Write a program to check if the input is positive or negative.</b></p>\n",
    "</span></div>\n",
    "\n"
   ]
  },
  {
   "cell_type": "code",
   "execution_count": 25,
   "metadata": {},
   "outputs": [
    {
     "name": "stdin",
     "output_type": "stream",
     "text": [
      "Enter a number:  -6\n"
     ]
    },
    {
     "name": "stdout",
     "output_type": "stream",
     "text": [
      "The number -6.0 is negative.\n"
     ]
    }
   ],
   "source": [
    "def check_positive_or_negative():\n",
    "    number = float(input(\"Enter a number: \"))\n",
    "    if number > 0:\n",
    "        print(f\"The number {number} is positive.\")\n",
    "    elif number < 0:\n",
    "        print(f\"The number {number} is negative.\")\n",
    "    else:\n",
    "        print(\"The number is zero.\")\n",
    "\n",
    "check_positive_or_negative()\n"
   ]
  },
  {
   "cell_type": "markdown",
   "metadata": {
    "delateable": false,
    "editable": false
   },
   "source": [
    "<div class=\"warning\" style='padding:0.1em; background-color:#E9D8FD; color:#69337A'>\n",
    "<span>\n",
    "<p style='margin-top:1em; text-align:left'>\n",
    "<b>10. Define a function which can multiply the string with n number of times.</b></p>\n",
    "</span>\n",
    "\n",
    " \n",
    "- string = \"python programming\"</div>\n"
   ]
  },
  {
   "cell_type": "code",
   "execution_count": 29,
   "metadata": {},
   "outputs": [
    {
     "name": "stdin",
     "output_type": "stream",
     "text": [
      "Enter the number of times to multiply the string:  3\n"
     ]
    },
    {
     "name": "stdout",
     "output_type": "stream",
     "text": [
      "python programmingpython programmingpython programming\n"
     ]
    }
   ],
   "source": [
    "def multiply_string(string, n):\n",
    "    return string * n\n",
    "\n",
    "string = \"python programming\"\n",
    "n = int(input(\"Enter the number of times to multiply the string: \"))\n",
    "result = multiply_string(string, n)\n",
    "print(result)\n"
   ]
  },
  {
   "cell_type": "markdown",
   "metadata": {
    "delateable": false,
    "editable": false
   },
   "source": [
    "<div class=\"warning\" style='padding:0.1em; background-color:#E9D8FD; color:#69337A'>\n",
    "<span>\n",
    "<p style='margin-top:1em; text-align:left'>\n",
    "<b>11. Define a function which can sum up two numbers.</b></p>\n",
    "</span>\n",
    "\n"
   ]
  },
  {
   "cell_type": "code",
   "execution_count": 31,
   "metadata": {},
   "outputs": [
    {
     "name": "stdin",
     "output_type": "stream",
     "text": [
      "Enter the first number:  10\n",
      "Enter the second number:  20\n"
     ]
    },
    {
     "name": "stdout",
     "output_type": "stream",
     "text": [
      "The sum of 10.0 and 20.0 is: 30.0\n"
     ]
    }
   ],
   "source": [
    "def sum_two_numbers(a, b):\n",
    "    return a + b\n",
    "\n",
    "num1 = float(input(\"Enter the first number: \"))\n",
    "num2 = float(input(\"Enter the second number: \"))\n",
    "result = sum_two_numbers(num1, num2)\n",
    "print(f\"The sum of {num1} and {num2} is: {result}\")\n"
   ]
  },
  {
   "cell_type": "markdown",
   "metadata": {
    "delateable": false,
    "editable": false
   },
   "source": [
    "<div class=\"warning\" style='padding:0.1em; background-color:#E9D8FD; color:#69337A'>\n",
    "<span>\n",
    "<p style='margin-top:1em; text-align:left'>\n",
    "<b>12. Define a function which can identify if a user has entered specific string or not.</b></p>\n",
    "</span>\n",
    "\n",
    " \n",
    "- specified string = \"India\"</div>\n",
    "\n"
   ]
  },
  {
   "cell_type": "code",
   "execution_count": 41,
   "metadata": {},
   "outputs": [
    {
     "name": "stdin",
     "output_type": "stream",
     "text": [
      "Enter a string:  \"India\"\n"
     ]
    },
    {
     "name": "stdout",
     "output_type": "stream",
     "text": [
      "The specified string 'India' was found in the input.\n"
     ]
    }
   ],
   "source": [
    "def check_string(input_string):\n",
    "    specified_string = \"India\"\n",
    "    if specified_string in input_string:\n",
    "        return True\n",
    "    else:\n",
    "        return False\n",
    "\n",
    "user_input = input(\"Enter a string: \")\n",
    "if check_string(user_input):\n",
    "    print(\"The specified string 'India' was found in the input.\")\n",
    "else:\n",
    "    print(\"The specified string 'India' was not found in the input.\")\n"
   ]
  },
  {
   "cell_type": "markdown",
   "metadata": {
    "delateable": false,
    "editable": false
   },
   "source": [
    "<div class=\"warning\" style='padding:0.1em; background-color:#E9D8FD; color:#69337A'>\n",
    "<span>\n",
    "<p style='margin-top:1em; text-align:left'>\n",
    "<b>13. Define a function which will greet by taking user name as input.</b></p>\n",
    "</span>\n",
    " \n",
    "- input = name\n",
    "- hello 'name', hope you are doing well</div>\n",
    "\n",
    "\n",
    "\n"
   ]
  },
  {
   "cell_type": "code",
   "execution_count": 39,
   "metadata": {},
   "outputs": [
    {
     "name": "stdin",
     "output_type": "stream",
     "text": [
      "Enter your name:  apoorva\n"
     ]
    },
    {
     "name": "stdout",
     "output_type": "stream",
     "text": [
      "Hello apoorva, hope you are doing well\n"
     ]
    }
   ],
   "source": [
    "def greet_user(name):\n",
    "    print(f\"Hello {name}, hope you are doing well\")\n",
    "\n",
    "user_name = input(\"Enter your name: \")\n",
    "greet_user(user_name)\n"
   ]
  },
  {
   "cell_type": "markdown",
   "metadata": {
    "delateable": false,
    "editable": false
   },
   "source": [
    "<div class=\"warning\" style='padding:0.1em; background-color:#E9D8FD; color:#69337A'>\n",
    "<span>\n",
    "<p style='margin-top:1em; text-align:left'>\n",
    "<b>14. Define a function which can give us the entire prime numbers within the given range.</b></p>\n",
    "<b>- For range(), input should be taken from the user.</b></p>\n",
    "</span>\n",
    "</div>\n",
    "\n"
   ]
  },
  {
   "cell_type": "code",
   "execution_count": 43,
   "metadata": {},
   "outputs": [
    {
     "name": "stdin",
     "output_type": "stream",
     "text": [
      "Enter the start of the range:  12\n",
      "Enter the end of the range:  15\n"
     ]
    },
    {
     "name": "stdout",
     "output_type": "stream",
     "text": [
      "The prime numbers between 12 and 15 are: [13]\n"
     ]
    }
   ],
   "source": [
    "def is_prime(number):\n",
    "    if number <= 1:\n",
    "        return False\n",
    "    for i in range(2, int(number ** 0.5) + 1):\n",
    "        if number % i == 0:\n",
    "            return False\n",
    "    return True\n",
    "\n",
    "def prime_numbers_within_range(start, end):\n",
    "    prime_numbers = []\n",
    "    for num in range(start, end + 1):\n",
    "        if is_prime(num):\n",
    "            prime_numbers.append(num)\n",
    "    return prime_numbers\n",
    "    \n",
    "start_range = int(input(\"Enter the start of the range: \"))\n",
    "end_range = int(input(\"Enter the end of the range: \"))\n",
    "\n",
    "prime_numbers = prime_numbers_within_range(start_range, end_range)\n",
    "print(f\"The prime numbers between {start_range} and {end_range} are: {prime_numbers}\")\n"
   ]
  },
  {
   "cell_type": "markdown",
   "metadata": {
    "delateable": false,
    "editable": false
   },
   "source": [
    "<div class=\"warning\" style='padding:0.1em; background-color:#E9D8FD; color:#69337A'>\n",
    "<span>\n",
    "<p style='margin-top:1em; text-align:left'>\n",
    "<b>15.Check if a given string is palindrome.\n",
    "</b></p>\n",
    "</span>\n",
    "<br> A string is palindrome if the reverse of the string is same as itself.\n",
    "<br> For eg. madam\n",
    "<br> Print \" `string` is palindrome\" if it is palindrome \n",
    "<br> else \" `string` is not a palindrome\" if it is not a palindrome.\n",
    "\n",
    "<br><b> Hint : Use slicing to get reverse of the string.\n"
   ]
  },
  {
   "cell_type": "code",
   "execution_count": 47,
   "metadata": {},
   "outputs": [
    {
     "name": "stdin",
     "output_type": "stream",
     "text": [
      "Enter a string to check:  apoorva\n"
     ]
    },
    {
     "name": "stdout",
     "output_type": "stream",
     "text": [
      "'apoorva' is not a palindrome\n"
     ]
    }
   ],
   "source": [
    "def is_palindrome(string):\n",
    "    # Reverse the string using slicing\n",
    "    reversed_string = string[::-1]\n",
    "    \n",
    "    # Check if the original string is equal to the reversed string\n",
    "    if string == reversed_string:\n",
    "        print(f\"'{string}' is a palindrome\")\n",
    "    else:\n",
    "        print(f\"'{string}' is not a palindrome\")\n",
    "        \n",
    "user_input = input(\"Enter a string to check: \")\n",
    "is_palindrome(user_input)\n"
   ]
  },
  {
   "cell_type": "markdown",
   "metadata": {
    "delateable": false,
    "editable": false
   },
   "source": [
    "<div class=\"warning\" style='padding:0.1em; background-color:#E9D8FD; color:#69337A'>\n",
    "<span>\n",
    "<p style='margin-top:1em; text-align:left'>\n",
    "<b>16. Write a python program to find n is a leap year.\n",
    "</b></p>\n",
    "</span>\n",
    "<br> Print \"n is a leap year\" if the given year is leap year.\n",
    "<br> Print \"n is not a leap year\" if the given year is not leap year.\n",
    "<br> Replace n with given year.\n",
    "    \n",
    "<br><b>   Hint : Use nested if-else </b>\n",
    "</div>\n"
   ]
  },
  {
   "cell_type": "code",
   "execution_count": 51,
   "metadata": {},
   "outputs": [
    {
     "name": "stdin",
     "output_type": "stream",
     "text": [
      "Enter a year:  2035\n"
     ]
    },
    {
     "name": "stdout",
     "output_type": "stream",
     "text": [
      "2035 is not a leap year\n"
     ]
    }
   ],
   "source": [
    "def check_leap_year(year):\n",
    "    if year % 4 == 0:\n",
    "        if year % 100 == 0:\n",
    "            if year % 400 == 0:\n",
    "                print(f\"{year} is a leap year\")\n",
    "            else:\n",
    "                print(f\"{year} is not a leap year\")\n",
    "        else:\n",
    "            print(f\"{year} is a leap year\")\n",
    "    else:\n",
    "        print(f\"{year} is not a leap year\")\n",
    "\n",
    "n = int(input(\"Enter a year: \"))\n",
    "check_leap_year(n)\n"
   ]
  },
  {
   "cell_type": "markdown",
   "metadata": {
    "delateable": false,
    "editable": false
   },
   "source": [
    "<div class=\"warning\" style='padding:0.1em; background-color:#E9D8FD; color:#69337A'>\n",
    "<span>\n",
    "<p style='margin-top:1em; text-align:left'>\n",
    "<b>17. Define a function to check if n is leap year.</b></p>\n",
    "</span>\n",
    "   \n",
    "<b> Hint: Using the calendar module </b>\n",
    "</div>\n"
   ]
  },
  {
   "cell_type": "code",
   "execution_count": 53,
   "metadata": {},
   "outputs": [
    {
     "name": "stdin",
     "output_type": "stream",
     "text": [
      "Enter a year:  2035\n"
     ]
    },
    {
     "name": "stdout",
     "output_type": "stream",
     "text": [
      "2035 is not a leap year\n"
     ]
    }
   ],
   "source": [
    "import calendar\n",
    "\n",
    "def check_leap_year(year):\n",
    "    if calendar.isleap(year):\n",
    "        print(f\"{year} is a leap year\")\n",
    "    else:\n",
    "        print(f\"{year} is not a leap year\")\n",
    "\n",
    "n = int(input(\"Enter a year: \"))\n",
    "check_leap_year(n)\n"
   ]
  },
  {
   "cell_type": "code",
   "execution_count": null,
   "metadata": {},
   "outputs": [],
   "source": []
  },
  {
   "cell_type": "markdown",
   "metadata": {
    "delateable": false,
    "editable": false
   },
   "source": [
    "<div class=\"warning\" style='padding:0.1em; background-color:#E9D8FD; color:#69337A'>\n",
    "<span>\n",
    "<p style='margin-top:1em; text-align:left'>\n",
    "<b>18. Find the largest among three numbers.</b></p>\n",
    "</span>\n",
    "\n",
    " eg. Consider a,b,c as the three numbers, find which is the  largest number among them."
   ]
  },
  {
   "cell_type": "code",
   "execution_count": 69,
   "metadata": {},
   "outputs": [
    {
     "name": "stdin",
     "output_type": "stream",
     "text": [
      "Enter the first number (a):  20\n",
      "Enter the second number (b):  50\n",
      "Enter the third number (c):  10\n"
     ]
    },
    {
     "name": "stdout",
     "output_type": "stream",
     "text": [
      "The largest among 20.0, 50.0, and 10.0 is: 50.0\n"
     ]
    }
   ],
   "source": [
    "def find_largest(a, b, c):\n",
    "    if a >= b and a >= c:\n",
    "        return a\n",
    "    elif b >= a and b >= c:\n",
    "        return b\n",
    "    else:\n",
    "        return c\n",
    "        \n",
    "a = float(input(\"Enter the first number (a): \"))\n",
    "b = float(input(\"Enter the second number (b): \"))\n",
    "c = float(input(\"Enter the third number (c): \"))\n",
    "\n",
    "largest = find_largest(a, b, c)\n",
    "print(f\"The largest among {a}, {b}, and {c} is: {largest}\")\n"
   ]
  },
  {
   "cell_type": "code",
   "execution_count": null,
   "metadata": {},
   "outputs": [],
   "source": []
  },
  {
   "cell_type": "markdown",
   "metadata": {
    "delateable": false,
    "editable": false
   },
   "source": [
    "\n",
    "<div class=\"warning\" style='padding:0.1em; background-color:#E9D8FD; color:#69337A'>\n",
    "<span>\n",
    "<p style='margin-top:1em; text-align:left'>\n",
    "<b>19. Write a python program to print even numbers from 1 to 15 by using range() function.\n",
    "</b></p>\n",
    "</span>\n"
   ]
  },
  {
   "cell_type": "code",
   "execution_count": 73,
   "metadata": {},
   "outputs": [
    {
     "name": "stdout",
     "output_type": "stream",
     "text": [
      "2\n",
      "4\n",
      "6\n",
      "8\n",
      "10\n",
      "12\n",
      "14\n"
     ]
    }
   ],
   "source": [
    "def print_even_numbers():\n",
    "    for number in range(1, 16):\n",
    "        if number % 2 == 0:\n",
    "            print(number)\n",
    "\n",
    "print_even_numbers()\n",
    "\n"
   ]
  },
  {
   "cell_type": "code",
   "execution_count": null,
   "metadata": {},
   "outputs": [],
   "source": []
  },
  {
   "cell_type": "markdown",
   "metadata": {
    "delateable": false,
    "editable": false
   },
   "source": [
    "<div class=\"warning\" style='padding:0.1em; background-color:#E9D8FD; color:#69337A'>\n",
    "<span>\n",
    "<p style='margin-top:1em; text-align:left'>\n",
    "<b>20. Write a program to guess the integer which is selected by computer using  randint() function.\n",
    "</b></p>\n",
    "</span>\n",
    "\n",
    "- Use random() and randint().\n",
    "- Range should be 1 to 10.\n",
    "- If user's number is greater than 10 then program should say your guess is too high.\n",
    "- If user input is matches with the computer choice then your program should say \"yey! correct guess\".\n",
    "- Otherwise your program should say too low.\n",
    "\n",
    "    <b>- Important point to note is, this must be an iterative process until the correct guess.</div>"
   ]
  },
  {
   "cell_type": "code",
   "execution_count": 57,
   "metadata": {},
   "outputs": [
    {
     "name": "stdin",
     "output_type": "stream",
     "text": [
      "Enter your guess (between 1 and 10):  4\n"
     ]
    },
    {
     "name": "stdout",
     "output_type": "stream",
     "text": [
      "Try again!\n"
     ]
    },
    {
     "name": "stdin",
     "output_type": "stream",
     "text": [
      "Enter your guess (between 1 and 10):  6\n"
     ]
    },
    {
     "name": "stdout",
     "output_type": "stream",
     "text": [
      "Try again!\n"
     ]
    },
    {
     "name": "stdin",
     "output_type": "stream",
     "text": [
      "Enter your guess (between 1 and 10):  8\n"
     ]
    },
    {
     "name": "stdout",
     "output_type": "stream",
     "text": [
      "Try again!\n"
     ]
    },
    {
     "name": "stdin",
     "output_type": "stream",
     "text": [
      "Enter your guess (between 1 and 10):  5\n"
     ]
    },
    {
     "name": "stdout",
     "output_type": "stream",
     "text": [
      "Try again!\n"
     ]
    },
    {
     "name": "stdin",
     "output_type": "stream",
     "text": [
      "Enter your guess (between 1 and 10):  2\n"
     ]
    },
    {
     "name": "stdout",
     "output_type": "stream",
     "text": [
      "Too low. Try again!\n"
     ]
    },
    {
     "name": "stdin",
     "output_type": "stream",
     "text": [
      "Enter your guess (between 1 and 10):  9\n"
     ]
    },
    {
     "name": "stdout",
     "output_type": "stream",
     "text": [
      "Try again!\n"
     ]
    },
    {
     "name": "stdin",
     "output_type": "stream",
     "text": [
      "Enter your guess (between 1 and 10):  8\n"
     ]
    },
    {
     "name": "stdout",
     "output_type": "stream",
     "text": [
      "Try again!\n"
     ]
    },
    {
     "name": "stdin",
     "output_type": "stream",
     "text": [
      "Enter your guess (between 1 and 10):  7\n"
     ]
    },
    {
     "name": "stdout",
     "output_type": "stream",
     "text": [
      "Try again!\n"
     ]
    },
    {
     "name": "stdin",
     "output_type": "stream",
     "text": [
      "Enter your guess (between 1 and 10):  6\n"
     ]
    },
    {
     "name": "stdout",
     "output_type": "stream",
     "text": [
      "Try again!\n"
     ]
    },
    {
     "name": "stdin",
     "output_type": "stream",
     "text": [
      "Enter your guess (between 1 and 10):  4\n"
     ]
    },
    {
     "name": "stdout",
     "output_type": "stream",
     "text": [
      "Try again!\n"
     ]
    },
    {
     "name": "stdin",
     "output_type": "stream",
     "text": [
      "Enter your guess (between 1 and 10):  3\n"
     ]
    },
    {
     "name": "stdout",
     "output_type": "stream",
     "text": [
      "Yey! Correct guess.\n"
     ]
    }
   ],
   "source": [
    "import random\n",
    "\n",
    "def guess_the_number():\n",
    "    computer_choice = random.randint(1, 10)\n",
    "    while True:\n",
    "        user_guess = int(input(\"Enter your guess (between 1 and 10): \"))\n",
    "        if user_guess > 10:\n",
    "            print(\"Your guess is too high. Please guess a number between 1 and 10.\")\n",
    "        elif user_guess == computer_choice:\n",
    "            print(\"Yey! Correct guess.\")\n",
    "            break\n",
    "        elif user_guess < computer_choice:\n",
    "            print(\"Too low. Try again!\")\n",
    "        else:\n",
    "            print(\"Try again!\")\n",
    "\n",
    "guess_the_number()\n",
    "\n"
   ]
  },
  {
   "cell_type": "code",
   "execution_count": null,
   "metadata": {},
   "outputs": [],
   "source": []
  }
 ],
 "metadata": {
  "kernelspec": {
   "display_name": "Python [conda env:base] *",
   "language": "python",
   "name": "conda-base-py"
  },
  "language_info": {
   "codemirror_mode": {
    "name": "ipython",
    "version": 3
   },
   "file_extension": ".py",
   "mimetype": "text/x-python",
   "name": "python",
   "nbconvert_exporter": "python",
   "pygments_lexer": "ipython3",
   "version": "3.12.7"
  }
 },
 "nbformat": 4,
 "nbformat_minor": 4
}
